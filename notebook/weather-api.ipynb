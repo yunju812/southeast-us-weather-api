{
 "cells": [
  {
   "cell_type": "code",
   "execution_count": null,
   "id": "f374666b-a0e6-4d47-8065-e75411bfba98",
   "metadata": {},
   "outputs": [],
   "source": [
    "#WEATHER API PROJECT – SOUTHEAST U.S. CITIES"
   ]
  },
  {
   "cell_type": "code",
   "execution_count": null,
   "id": "3d254a85-262e-4508-a5b5-3f9f11fe8233",
   "metadata": {},
   "outputs": [],
   "source": [
    "#Libraries"
   ]
  },
  {
   "cell_type": "code",
   "execution_count": 2,
   "id": "9eb76b56-9c7a-42e1-a925-3244cc589f0d",
   "metadata": {},
   "outputs": [],
   "source": [
    "import requests"
   ]
  },
  {
   "cell_type": "code",
   "execution_count": 3,
   "id": "c42c9c7d-9ae4-45bf-9e6f-0665ddd477b9",
   "metadata": {},
   "outputs": [],
   "source": [
    "import pandas as pd"
   ]
  },
  {
   "cell_type": "code",
   "execution_count": 4,
   "id": "6ed7c2bc-1e5a-4f49-9df3-5713b04236f4",
   "metadata": {},
   "outputs": [],
   "source": [
    "import matplotlib.pyplot as plt"
   ]
  },
  {
   "cell_type": "code",
   "execution_count": 5,
   "id": "3b91ff03-7d97-4b0d-9cf9-c400c25e7848",
   "metadata": {},
   "outputs": [],
   "source": [
    "import datetime"
   ]
  },
  {
   "cell_type": "code",
   "execution_count": 6,
   "id": "ee621b25-adb2-4604-ba46-2a9e3dd3d8a5",
   "metadata": {},
   "outputs": [],
   "source": [
    "import os"
   ]
  },
  {
   "cell_type": "code",
   "execution_count": null,
   "id": "a8cae178-ab6e-4a46-9d34-b23bec11ef52",
   "metadata": {},
   "outputs": [],
   "source": [
    "#I want to use my API key without putting it directly in the code \n",
    "#The key goes into a .env file saved locally. \n",
    "#The.gitignore file in the project folder tells git not to upload the .env file"
   ]
  },
  {
   "cell_type": "code",
   "execution_count": null,
   "id": "7d8a8e8a-ee7e-43fe-8965-e64a26ee81b7",
   "metadata": {},
   "outputs": [],
   "source": [
    "#Package to read the .env file"
   ]
  },
  {
   "cell_type": "code",
   "execution_count": 8,
   "id": "c6b60fb6-b926-420b-b0b8-971686f6fe54",
   "metadata": {},
   "outputs": [
    {
     "name": "stdout",
     "output_type": "stream",
     "text": [
      "Requirement already satisfied: python-dotenv in /opt/anaconda3/lib/python3.12/site-packages (0.21.0)\n",
      "Note: you may need to restart the kernel to use updated packages.\n"
     ]
    }
   ],
   "source": [
    "pip install python-dotenv"
   ]
  },
  {
   "cell_type": "code",
   "execution_count": 9,
   "id": "04335bf2-bc2d-4ea4-bf91-93d3bb433b34",
   "metadata": {},
   "outputs": [],
   "source": [
    "from dotenv import load_dotenv"
   ]
  },
  {
   "cell_type": "code",
   "execution_count": null,
   "id": "f4bed0bd-6223-485b-9fa0-25e4eac94932",
   "metadata": {},
   "outputs": [],
   "source": [
    "#Load the .env file"
   ]
  },
  {
   "cell_type": "code",
   "execution_count": 10,
   "id": "3b4c2ba7-721f-498c-88a6-3bd2054c2694",
   "metadata": {},
   "outputs": [
    {
     "data": {
      "text/plain": [
       "True"
      ]
     },
     "execution_count": 10,
     "metadata": {},
     "output_type": "execute_result"
    }
   ],
   "source": [
    "load_dotenv()"
   ]
  },
  {
   "cell_type": "code",
   "execution_count": 55,
   "id": "a3a79501-df16-4d3f-bfde-d73b4895b557",
   "metadata": {},
   "outputs": [],
   "source": [
    "#Get the API key from the .env file\n",
    "API_KEY = os.getenv(\"OPENWEATHER_API_KEY\")\n",
    "BASE_URL = \"http://api.openweathermap.org/data/2.5/weather\""
   ]
  },
  {
   "cell_type": "code",
   "execution_count": 56,
   "id": "e054cacc-58f8-4076-b768-7b18c8a41963",
   "metadata": {},
   "outputs": [],
   "source": [
    "#List of cities\n",
    "cities = [\"Atlanta\", \"Miami\", \"Orlando\", \"Tampa\", \"Charlotte\", \"Nashville\", \"New Orleans\"]"
   ]
  },
  {
   "cell_type": "code",
   "execution_count": 57,
   "id": "4ef870f0-08f5-42bf-9517-ced25899df04",
   "metadata": {},
   "outputs": [],
   "source": [
    "#Storage for weather data\n",
    "weather_data = []"
   ]
  },
  {
   "cell_type": "code",
   "execution_count": 58,
   "id": "839e4504-dc38-42ae-9204-929c7b3b1f3f",
   "metadata": {},
   "outputs": [],
   "source": [
    "#Fetch weather data for each city\n",
    "for city in cities:\n",
    "    params = {\n",
    "        \"q\": city,              \n",
    "        \"appid\": API_KEY,       \n",
    "        \"units\": \"imperial\"       \n",
    "    }\n",
    "\n",
    "    response = requests.get(BASE_URL, params=params)  \n",
    "\n",
    "    description = data[\"weather\"][0][\"description\"]\n",
    "    \n",
    "    if response.status_code == 200:                  \n",
    "        data = response.json()  \n",
    "        \n",
    "        city_weather = {                            \n",
    "            \"city\": city,\n",
    "            \"temperature\": data[\"main\"][\"temp\"], \n",
    "            \"humidity\": data[\"main\"][\"humidity\"],    \n",
    "            \"wind_speed\": data[\"wind\"][\"speed\"],     \n",
    "            \"description\": data[\"weather\"][0][\"description\"],\n",
    "            \"date\": datetime.date.today()          \n",
    "        }\n",
    "        \n",
    "        weather_data.append(city_weather)   \n",
    "        \n",
    "    else:\n",
    "        print(f\"Failed to get data for {city}\")"
   ]
  },
  {
   "cell_type": "code",
   "execution_count": 59,
   "id": "d0bfff9d-dde9-4397-8093-41537e2f3d50",
   "metadata": {},
   "outputs": [],
   "source": [
    "df = pd.DataFrame(weather_data)"
   ]
  },
  {
   "cell_type": "code",
   "execution_count": 60,
   "id": "dc5881d7-5f66-4a69-b528-68bcead35b6e",
   "metadata": {},
   "outputs": [
    {
     "data": {
      "text/html": [
       "<div>\n",
       "<style scoped>\n",
       "    .dataframe tbody tr th:only-of-type {\n",
       "        vertical-align: middle;\n",
       "    }\n",
       "\n",
       "    .dataframe tbody tr th {\n",
       "        vertical-align: top;\n",
       "    }\n",
       "\n",
       "    .dataframe thead th {\n",
       "        text-align: right;\n",
       "    }\n",
       "</style>\n",
       "<table border=\"1\" class=\"dataframe\">\n",
       "  <thead>\n",
       "    <tr style=\"text-align: right;\">\n",
       "      <th></th>\n",
       "      <th>city</th>\n",
       "      <th>temperature</th>\n",
       "      <th>humidity</th>\n",
       "      <th>wind_speed</th>\n",
       "      <th>description</th>\n",
       "      <th>date</th>\n",
       "    </tr>\n",
       "  </thead>\n",
       "  <tbody>\n",
       "    <tr>\n",
       "      <th>0</th>\n",
       "      <td>Atlanta</td>\n",
       "      <td>82.72</td>\n",
       "      <td>51</td>\n",
       "      <td>8.05</td>\n",
       "      <td>few clouds</td>\n",
       "      <td>2025-08-29</td>\n",
       "    </tr>\n",
       "    <tr>\n",
       "      <th>1</th>\n",
       "      <td>Miami</td>\n",
       "      <td>91.13</td>\n",
       "      <td>67</td>\n",
       "      <td>9.22</td>\n",
       "      <td>broken clouds</td>\n",
       "      <td>2025-08-29</td>\n",
       "    </tr>\n",
       "    <tr>\n",
       "      <th>2</th>\n",
       "      <td>Orlando</td>\n",
       "      <td>90.21</td>\n",
       "      <td>67</td>\n",
       "      <td>5.75</td>\n",
       "      <td>broken clouds</td>\n",
       "      <td>2025-08-29</td>\n",
       "    </tr>\n",
       "    <tr>\n",
       "      <th>3</th>\n",
       "      <td>Tampa</td>\n",
       "      <td>89.89</td>\n",
       "      <td>66</td>\n",
       "      <td>12.66</td>\n",
       "      <td>broken clouds</td>\n",
       "      <td>2025-08-29</td>\n",
       "    </tr>\n",
       "    <tr>\n",
       "      <th>4</th>\n",
       "      <td>Charlotte</td>\n",
       "      <td>83.30</td>\n",
       "      <td>42</td>\n",
       "      <td>4.61</td>\n",
       "      <td>few clouds</td>\n",
       "      <td>2025-08-29</td>\n",
       "    </tr>\n",
       "    <tr>\n",
       "      <th>5</th>\n",
       "      <td>Nashville</td>\n",
       "      <td>86.04</td>\n",
       "      <td>36</td>\n",
       "      <td>8.05</td>\n",
       "      <td>scattered clouds</td>\n",
       "      <td>2025-08-29</td>\n",
       "    </tr>\n",
       "    <tr>\n",
       "      <th>6</th>\n",
       "      <td>New Orleans</td>\n",
       "      <td>82.83</td>\n",
       "      <td>71</td>\n",
       "      <td>3.44</td>\n",
       "      <td>scattered clouds</td>\n",
       "      <td>2025-08-29</td>\n",
       "    </tr>\n",
       "  </tbody>\n",
       "</table>\n",
       "</div>"
      ],
      "text/plain": [
       "          city  temperature  humidity  wind_speed       description  \\\n",
       "0      Atlanta        82.72        51        8.05        few clouds   \n",
       "1        Miami        91.13        67        9.22     broken clouds   \n",
       "2      Orlando        90.21        67        5.75     broken clouds   \n",
       "3        Tampa        89.89        66       12.66     broken clouds   \n",
       "4    Charlotte        83.30        42        4.61        few clouds   \n",
       "5    Nashville        86.04        36        8.05  scattered clouds   \n",
       "6  New Orleans        82.83        71        3.44  scattered clouds   \n",
       "\n",
       "         date  \n",
       "0  2025-08-29  \n",
       "1  2025-08-29  \n",
       "2  2025-08-29  \n",
       "3  2025-08-29  \n",
       "4  2025-08-29  \n",
       "5  2025-08-29  \n",
       "6  2025-08-29  "
      ]
     },
     "metadata": {},
     "output_type": "display_data"
    }
   ],
   "source": [
    "display(df)"
   ]
  },
  {
   "cell_type": "code",
   "execution_count": 61,
   "id": "353efbd1-c1ce-4f55-b14b-3e20ec80bc25",
   "metadata": {},
   "outputs": [
    {
     "data": {
      "image/png": "[encoded data removed]",
      "text/plain": [
       "<Figure size 1000x600 with 1 Axes>"
      ]
     },
     "metadata": {},
     "output_type": "display_data"
    }
   ],
   "source": [
    "#Temperature comparison\n",
    "plt.figure(figsize=(10,6))\n",
    "plt.bar(df['city'], df['temperature'], color='skyblue')\n",
    "plt.title(\"Temperature by City (°F)\")\n",
    "plt.xlabel(\"City\")\n",
    "plt.ylabel(\"Temperature (°F)\")\n",
    "plt.show()\n"
   ]
  },
  {
   "cell_type": "code",
   "execution_count": 62,
   "id": "0b64f54b-b7be-4df0-b4f9-3704807f3546",
   "metadata": {},
   "outputs": [
    {
     "data": {
      "image/png": "[encoded data removed]",
      "text/plain": [
       "<Figure size 1000x600 with 1 Axes>"
      ]
     },
     "metadata": {},
     "output_type": "display_data"
    }
   ],
   "source": [
    "#Humidity comparison\n",
    "plt.figure(figsize=(10,6))\n",
    "plt.bar(df['city'], df['humidity'], color='lightgreen')\n",
    "plt.title(\"Humidity by City (%)\")\n",
    "plt.xlabel(\"City\")\n",
    "plt.ylabel(\"Humidity (%)\")\n",
    "plt.show()\n"
   ]
  },
  {
   "cell_type": "code",
   "execution_count": 64,
   "id": "85180aac-ad91-49f2-9925-09be94aa229a",
   "metadata": {},
   "outputs": [],
   "source": [
    "#Save the data in a CSV file \n",
    "file_path = \"data/weather_data.csv\"\n",
    "os.makedirs(\"data\", exist_ok=True)\n",
    "df.to_csv(file_path, index=False)"
   ]
  },
  {
   "cell_type": "code",
   "execution_count": null,
   "id": "f4a11fc7-7e10-4e8e-b474-3ac7898dfbb2",
   "metadata": {},
   "outputs": [],
   "source": []
  }
 ],
 "metadata": {
  "kernelspec": {
   "display_name": "Python [conda env:base] *",
   "language": "python",
   "name": "conda-base-py"
  },
  "language_info": {
   "codemirror_mode": {
    "name": "ipython",
    "version": 3
   },
   "file_extension": ".py",
   "mimetype": "text/x-python",
   "name": "python",
   "nbconvert_exporter": "python",
   "pygments_lexer": "ipython3",
   "version": "3.12.7"
  }
 },
 "nbformat": 4,
 "nbformat_minor": 5
}
